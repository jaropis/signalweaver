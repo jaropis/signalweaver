{
 "cells": [
  {
   "cell_type": "code",
   "execution_count": 4,
   "metadata": {},
   "outputs": [],
   "source": [
    "import csv\n",
    "import numpy as np\n",
    "from numba import njit\n",
    "\n",
    "def read_ecg(filename):\n",
    "    with open(filename, mode=\"r\") as file:\n",
    "        csv_reader = csv.reader(file)\n",
    "        next(csv_reader)\n",
    "        result = []\n",
    "        for row in csv_reader:\n",
    "            result.append([float(row[0]), float(row[1])])\n",
    "    return np.array(result)"
   ]
  },
  {
   "cell_type": "code",
   "execution_count": 5,
   "metadata": {},
   "outputs": [
    {
     "data": {
      "text/plain": [
       "array([[ 5.00000000e-03, -6.96634193e+03],\n",
       "       [ 1.00000000e-02, -6.86817456e+03],\n",
       "       [ 1.50000000e-02, -6.83211308e+03],\n",
       "       ...,\n",
       "       [ 3.14459900e+04, -7.67655276e+03],\n",
       "       [ 3.14459950e+04, -7.67655276e+03],\n",
       "       [ 3.14460000e+04, -7.67655276e+03]])"
      ]
     },
     "execution_count": 5,
     "metadata": {},
     "output_type": "execute_result"
    }
   ],
   "source": [
    "data = read_ecg(\"AVA02_2017-01-18.csv\")\n",
    "data"
   ]
  },
  {
   "cell_type": "code",
   "execution_count": null,
   "metadata": {},
   "outputs": [],
   "source": []
  }
 ],
 "metadata": {
  "kernelspec": {
   "display_name": "venv",
   "language": "python",
   "name": "python3"
  },
  "language_info": {
   "codemirror_mode": {
    "name": "ipython",
    "version": 3
   },
   "file_extension": ".py",
   "mimetype": "text/x-python",
   "name": "python",
   "nbconvert_exporter": "python",
   "pygments_lexer": "ipython3",
   "version": "3.10.12"
  }
 },
 "nbformat": 4,
 "nbformat_minor": 2
}
